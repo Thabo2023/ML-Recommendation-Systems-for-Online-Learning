{
 "cells": [
  {
   "cell_type": "markdown",
   "id": "01fe6212",
   "metadata": {},
   "source": [
    "# Recommendation Systems for Online Learning (Udemy Data)"
   ]
  },
  {
   "cell_type": "markdown",
   "id": "3ebc2efa",
   "metadata": {},
   "source": [
    "# By Thabo Pilusa "
   ]
  },
  {
   "cell_type": "code",
   "execution_count": 1,
   "id": "0f833932",
   "metadata": {},
   "outputs": [],
   "source": [
    "#Start with the usual, importing the necessary libraries\n",
    "import pandas as pd\n",
    "import numpy as np\n",
    "import matplotlib.pyplot as plt\n",
    "import seaborn as sns\n",
    "from sklearn.metrics.pairwise import cosine_similarity\n"
   ]
  },
  {
   "cell_type": "markdown",
   "id": "4357f036",
   "metadata": {},
   "source": [
    "Load the data downloaded from: https://www.kaggle.com/datasets/shailx/course-recommendation-system-dataset?resource=download"
   ]
  },
  {
   "cell_type": "code",
   "execution_count": 2,
   "id": "53cccf6d",
   "metadata": {},
   "outputs": [],
   "source": [
    "file_path = 'udemy_course_data.csv' \n",
    "df = pd.read_csv(file_path)\n"
   ]
  },
  {
   "cell_type": "markdown",
   "id": "636001ed",
   "metadata": {},
   "source": [
    "Data Cleaning: Handling missing values"
   ]
  },
  {
   "cell_type": "code",
   "execution_count": 3,
   "id": "044e2cd1",
   "metadata": {},
   "outputs": [],
   "source": [
    "df.dropna(inplace=True)"
   ]
  },
  {
   "cell_type": "markdown",
   "id": "a28372b4",
   "metadata": {},
   "source": [
    "Exploratory Data Analysis"
   ]
  },
  {
   "cell_type": "code",
   "execution_count": 60,
   "id": "780be71c",
   "metadata": {},
   "outputs": [
    {
     "data": {
      "image/png": "[encoded data removed]",
      "text/plain": [
       "<Figure size 720x432 with 1 Axes>"
      ]
     },
     "metadata": {
      "needs_background": "light"
     },
     "output_type": "display_data"
    }
   ],
   "source": [
    "# Distribution of Course Prices\n",
    "plt.figure(figsize=(10, 6))\n",
    "sns.histplot(df['price'], bins=20, kde=True, color='skyblue')\n",
    "plt.title('Distribution of Course Prices')\n",
    "plt.xlabel('Price (USD)')\n",
    "plt.ylabel('Frequence of Users')\n",
    "plt.show()\n"
   ]
  },
  {
   "cell_type": "markdown",
   "id": "f0e67be3",
   "metadata": {},
   "source": [
    "Prepare the data for recommendation system\n",
    "\n"
   ]
  },
  {
   "cell_type": "code",
   "execution_count": 48,
   "id": "e026e87f",
   "metadata": {},
   "outputs": [],
   "source": [
    "# Selecting relevant features for similarity computation\n",
    "features = ['num_subscribers', 'num_reviews', 'num_lectures'] #'content_duration']\n",
    "course_features = df[features]\n",
    "\n"
   ]
  },
  {
   "cell_type": "markdown",
   "id": "ee90d4fd",
   "metadata": {},
   "source": [
    "Normalize the feature data"
   ]
  },
  {
   "cell_type": "code",
   "execution_count": 49,
   "id": "2f45b942",
   "metadata": {},
   "outputs": [],
   "source": [
    "course_features_normalized = (course_features - course_features.min()) / (course_features.max() - course_features.min())\n"
   ]
  },
  {
   "cell_type": "markdown",
   "id": "e0f9ed13",
   "metadata": {},
   "source": [
    "Similarity between courses\n"
   ]
  },
  {
   "cell_type": "code",
   "execution_count": 61,
   "id": "5e8404f0",
   "metadata": {},
   "outputs": [],
   "source": [
    "course_similarity = cosine_similarity(course_features_normalized)\n",
    "course_similarity_df = pd.DataFrame(course_similarity, index=df['course_id'], columns=df['course_id'])\n"
   ]
  },
  {
   "cell_type": "markdown",
   "id": "f41a1354",
   "metadata": {},
   "source": [
    "Function to get recommended courses"
   ]
  },
  {
   "cell_type": "code",
   "execution_count": 64,
   "id": "169a1c23",
   "metadata": {},
   "outputs": [],
   "source": [
    "\n",
    "def get_course_recommendations(course_id, n=5):\n",
    "    if course_id not in course_similarity_df.index:\n",
    "        return []\n",
    "    \n",
    "    similar_courses = course_similarity_df[course_id].sort_values(ascending=False).index[1:n+1]\n",
    "    recommended_courses = df[df['course_id'].isin(similar_courses)][['course_id', 'course_title', 'url']]\n",
    "    return recommended_courses\n"
   ]
  },
  {
   "cell_type": "markdown",
   "id": "489f32ab",
   "metadata": {},
   "source": [
    "Get recommended courses example"
   ]
  },
  {
   "cell_type": "code",
   "execution_count": 65,
   "id": "631c17c0",
   "metadata": {},
   "outputs": [
    {
     "name": "stdout",
     "output_type": "stream",
     "text": [
      "Recommended courses for: 'Amazon Alexa Development: From Beginner to Intermediate' (ID: 997916):;\n",
      "      course_id                                       course_title  \\\n",
      "90       891484      Forex Trading - Advanced Fundamental Analysis   \n",
      "1055    1137310                                  自分に合った投資信託を見つけよう！   \n",
      "1233      16714                   Color Basics for Print Designers   \n",
      "3486    1031620  Learn Laravel with Database Migration & Seedin...   \n",
      "3596     800148  Become a Rockstar Web Developer - Learn By Coding   \n",
      "\n",
      "                                                    url  \n",
      "90    https://www.udemy.com/forex-trading-advanced-f...  \n",
      "1055             https://www.udemy.com/kabucom_toushin/  \n",
      "1233  https://www.udemy.com/color-basics-for-print-d...  \n",
      "3486  https://www.udemy.com/laravel-53-migra-migrati...  \n",
      "3596  https://www.udemy.com/become-rockstar-php-deve...  \n"
     ]
    }
   ],
   "source": [
    "# Randomly select a course ID and get its name\n",
    "course_sample_id = df['course_id'].sample(1).values[0]\n",
    "course_sample_name = df.loc[df['course_id'] == course_sample_id, 'course_title'].values[0] \n",
    "# Generate recommendations\n",
    "recommended_courses = get_course_recommendations(course_sample_id)\n",
    "\n",
    "# Print results with the course name\n",
    "print(f\"Recommended courses for: '{course_sample_name}' (ID: {course_sample_id}):;\")\n",
    "print(recommended_courses)"
   ]
  },
  {
   "cell_type": "code",
   "execution_count": null,
   "id": "32ce748f",
   "metadata": {},
   "outputs": [],
   "source": []
  }
 ],
 "metadata": {
  "@webio": {
   "lastCommId": null,
   "lastKernelId": null
  },
  "kernelspec": {
   "display_name": "Python 3",
   "language": "python",
   "name": "python3"
  },
  "language_info": {
   "codemirror_mode": {
    "name": "ipython",
    "version": 3
   },
   "file_extension": ".py",
   "mimetype": "text/x-python",
   "name": "python",
   "nbconvert_exporter": "python",
   "pygments_lexer": "ipython3",
   "version": "3.11.9"
  }
 },
 "nbformat": 4,
 "nbformat_minor": 5
}
